{
  "nbformat": 4,
  "nbformat_minor": 0,
  "metadata": {
    "colab": {
      "provenance": []
    },
    "kernelspec": {
      "name": "python3",
      "display_name": "Python 3"
    },
    "language_info": {
      "name": "python"
    }
  },
  "cells": [
    {
      "cell_type": "markdown",
      "source": [
        "**Import the required libraries**"
      ],
      "metadata": {
        "id": "VI5SMbxYsrvk"
      }
    },
    {
      "cell_type": "code",
      "source": [
        "from sklearn.datasets import load_breast_cancer\n",
        "from sklearn.model_selection import train_test_split\n",
        "from sklearn.feature_selection import SelectKBest, chi2, f_classif, mutual_info_classif\n",
        "from sklearn.linear_model import LogisticRegression\n",
        "from sklearn.preprocessing import MinMaxScaler\n",
        "\n",
        "# Load the breast cancer dataset\n",
        "data = load_breast_cancer()\n",
        "X = data.data\n",
        "y = data.target\n",
        "\n",
        "# Split the data into training and testing sets\n",
        "X_train, X_test, y_train, y_test = train_test_split(X, y, test_size=0.2, random_state=42)\n",
        "\n",
        "# Scale the data using MinMaxScaler\n",
        "scaler = MinMaxScaler()\n",
        "X_train_scaled = scaler.fit_transform(X_train)\n",
        "X_test_scaled = scaler.transform(X_test)\n",
        "\n",
        "# Train a logistic regression model\n",
        "model = LogisticRegression()\n",
        "model.fit(X_train_scaled, y_train)\n",
        "\n",
        "# Predict the labels for the test set\n",
        "y_pred = model.predict(X_test_scaled)\n",
        "\n",
        "# Calculate the accuracy of the model\n",
        "accuracy = (y_pred == y_test).mean()\n",
        "print(\"Accuracy:\", accuracy)\n",
        "\n",
        "# Use feature selection to find the top 10 predictive features\n",
        "selector_chi2 = SelectKBest(score_func=chi2, k=10)\n",
        "selector_f_classif = SelectKBest(score_func=f_classif, k=10)\n",
        "selector_mutual_info = SelectKBest(score_func=mutual_info_classif, k=10)\n",
        "\n",
        "X_train_selected_chi2 = selector_chi2.fit_transform(X_train_scaled, y_train)\n",
        "X_train_selected_f_classif = selector_f_classif.fit_transform(X_train_scaled, y_train)\n",
        "X_train_selected_mutual_info = selector_mutual_info.fit_transform(X_train_scaled, y_train)\n",
        "\n",
        "# Get the indices of the selected features\n",
        "indices_chi2 = selector_chi2.get_support(indices=True)\n",
        "indices_f_classif = selector_f_classif.get_support(indices=True)\n",
        "indices_mutual_info = selector_mutual_info.get_support(indices=True)\n",
        "\n",
        "# Get the names of the selected features\n",
        "selected_features_chi2 = [data.feature_names[i] for i in indices_chi2]\n",
        "selected_features_f_classif = [data.feature_names[i] for i in indices_f_classif]\n",
        "selected_features_mutual_info = [data.feature_names[i] for i in indices_mutual_info]\n",
        "\n",
        "print(\"Top 10 predictive features according to chi2:\", selected_features_chi2)\n",
        "print(\"Top 10 predictive features according to f_classif:\", selected_features_f_classif)\n",
        "print(\"Top 10 predictive features according to mutual_info_classif:\", selected_features_mutual_info)\n",
        "\n",
        "from sklearn.metrics import accuracy_score\n",
        "\n",
        "# Calculate the accuracy of the model\n",
        "accuracy = accuracy_score(y_test, y_pred)\n",
        "print(\"Classification Accuracy:\", accuracy)\n",
        "\n",
        "from sklearn.metrics import confusion_matrix\n",
        "\n",
        "# Calculate the confusion matrix\n",
        "cm = confusion_matrix(y_test, y_pred)\n",
        "print(\"Confusion Matrix:\")\n",
        "print(cm)\n",
        "\n",
        "from sklearn.metrics import precision_score, recall_score\n",
        "\n",
        "# Calculate precision and recall\n",
        "precision = precision_score(y_test, y_pred)\n",
        "recall = recall_score(y_test, y_pred)\n",
        "\n",
        "print(\"Precision:\", precision)\n",
        "print(\"Recall:\", recall)\n",
        "\n",
        "\n",
        "\n"
      ],
      "metadata": {
        "colab": {
          "base_uri": "https://localhost:8080/"
        },
        "id": "mclX2Cy5pTbk",
        "outputId": "889ea7ef-fbed-4807-e295-83109aa03eca"
      },
      "execution_count": 24,
      "outputs": [
        {
          "output_type": "stream",
          "name": "stdout",
          "text": [
            "Accuracy: 0.9824561403508771\n",
            "Top 10 predictive features according to chi2: ['mean radius', 'mean perimeter', 'mean area', 'mean concavity', 'mean concave points', 'worst radius', 'worst perimeter', 'worst area', 'worst concavity', 'worst concave points']\n",
            "Top 10 predictive features according to f_classif: ['mean radius', 'mean perimeter', 'mean area', 'mean concavity', 'mean concave points', 'worst radius', 'worst perimeter', 'worst area', 'worst concavity', 'worst concave points']\n",
            "Top 10 predictive features according to mutual_info_classif: ['mean radius', 'mean perimeter', 'mean area', 'mean concavity', 'mean concave points', 'area error', 'worst radius', 'worst perimeter', 'worst area', 'worst concave points']\n",
            "Classification Accuracy: 0.9824561403508771\n",
            "Confusion Matrix:\n",
            "[[41  2]\n",
            " [ 0 71]]\n",
            "Precision: 0.9726027397260274\n",
            "Recall: 1.0\n"
          ]
        }
      ]
    },
    {
      "cell_type": "code",
      "source": [
        "from sklearn.datasets import load_breast_cancer\n",
        "from sklearn.model_selection import train_test_split\n",
        "from sklearn.feature_selection import SelectKBest, chi2, f_classif, mutual_info_classif\n",
        "from sklearn.linear_model import LogisticRegression\n",
        "from sklearn.preprocessing import MinMaxScaler\n",
        "from sklearn.pipeline import Pipeline\n",
        "from sklearn.metrics import accuracy_score, confusion_matrix, precision_score, recall_score\n",
        "\n",
        "# Load the breast cancer dataset\n",
        "data = load_breast_cancer()\n",
        "X = data.data\n",
        "y = data.target\n",
        "\n",
        "# Split the data into training and testing sets\n",
        "X_train, X_test, y_train, y_test = train_test_split(X, y, test_size=0.2, random_state=42)\n",
        "\n",
        "# Create a pipeline with feature scaling, feature selection, and logistic regression\n",
        "pipeline = Pipeline([\n",
        "    ('scaler', MinMaxScaler()),\n",
        "    ('feature_selection', SelectKBest(score_func=f_classif, k=10)),\n",
        "    ('classification', LogisticRegression())\n",
        "])\n",
        "\n",
        "# Train the pipeline\n",
        "pipeline.fit(X_train, y_train)\n",
        "\n",
        "# Get the indices of the selected features\n",
        "feature_indices = pipeline.named_steps['feature_selection'].get_support(indices=True)\n",
        "\n",
        "# Get the names of the selected features\n",
        "selected_features = [data.feature_names[i] for i in feature_indices]\n",
        "print(\"Top 10 predictive features:\", selected_features)\n",
        "\n",
        "# Predict the labels for the test set\n",
        "y_pred = pipeline.predict(X_test)\n",
        "\n",
        "# Calculate the accuracy of the model\n",
        "accuracy = accuracy_score(y_test, y_pred)\n",
        "print(\"Classification Accuracy:\", accuracy)\n",
        "\n",
        "# Calculate the confusion matrix\n",
        "cm = confusion_matrix(y_test, y_pred)\n",
        "print(\"Confusion Matrix:\")\n",
        "print(cm)\n",
        "\n",
        "# Calculate precision and recall\n",
        "precision = precision_score(y_test, y_pred)\n",
        "recall = recall_score(y_test, y_pred)\n",
        "\n",
        "print(\"Precision:\", precision)\n",
        "print(\"Recall:\", recall)\n"
      ],
      "metadata": {
        "colab": {
          "base_uri": "https://localhost:8080/"
        },
        "id": "2p6kdnjWrvhF",
        "outputId": "6a64fefc-17ff-48af-feb2-efba77891fce"
      },
      "execution_count": 31,
      "outputs": [
        {
          "output_type": "stream",
          "name": "stdout",
          "text": [
            "Top 10 predictive features: ['mean radius', 'mean perimeter', 'mean area', 'mean concavity', 'mean concave points', 'worst radius', 'worst perimeter', 'worst area', 'worst concavity', 'worst concave points']\n",
            "Classification Accuracy: 0.956140350877193\n",
            "Confusion Matrix:\n",
            "[[39  4]\n",
            " [ 1 70]]\n",
            "Precision: 0.9459459459459459\n",
            "Recall: 0.9859154929577465\n"
          ]
        }
      ]
    }
  ]
}